{
  "nbformat": 4,
  "nbformat_minor": 0,
  "metadata": {
    "colab": {
      "provenance": []
    },
    "kernelspec": {
      "name": "python3",
      "display_name": "Python 3"
    },
    "language_info": {
      "name": "python"
    },
    "gpuClass": "standard"
  },
  "cells": [
    {
      "cell_type": "code",
      "source": [
        "import pandas as pd\n",
        "import numpy as np\n",
        "import sys\n",
        "from sklearn.impute import KNNImputer, SimpleImputer\n",
        "from sklearn.preprocessing import StandardScaler, PowerTransformer"
      ],
      "metadata": {
        "id": "iEIyspvO_Kce"
      },
      "execution_count": null,
      "outputs": []
    },
    {
      "cell_type": "markdown",
      "source": [
        "## Load data"
      ],
      "metadata": {
        "id": "-6Ymf_zncUjQ"
      }
    },
    {
      "cell_type": "code",
      "source": [
        "if 'google.colab' in sys.modules:\n",
        "    from google.colab import drive\n",
        "    drive.mount('/content/drive')\n",
        "    DATA_PATH = '/content/drive/MyDrive/DL_Project/data/'\n",
        "else:\n",
        "    DATA_PATH = './Documents/Classes/AML/proj/archive/'"
      ],
      "metadata": {
        "id": "g74H9ZoS-ToK",
        "colab": {
          "base_uri": "https://localhost:8080/"
        },
        "outputId": "e43ee1c0-757c-4cee-c17d-9aab7d92ac6d"
      },
      "execution_count": null,
      "outputs": [
        {
          "output_type": "stream",
          "name": "stdout",
          "text": [
            "Mounted at /content/drive\n"
          ]
        }
      ]
    },
    {
      "cell_type": "code",
      "source": [
        "train = pd.read_feather(DATA_PATH + 'train_data.ftr')\n",
        "train.head()\n",
        "# test = pd.read_feather(DATA_PATH + 'test_data.ftr')"
      ],
      "metadata": {
        "id": "kI073ptY-lY7"
      },
      "execution_count": null,
      "outputs": []
    },
    {
      "cell_type": "code",
      "source": [
        "CAT_COL = ['B_30', 'B_38', 'D_114', 'D_116', 'D_117', 'D_120', 'D_126', 'D_63', 'D_64', 'D_66', 'D_68']"
      ],
      "metadata": {
        "id": "of5zrpY6_PzK"
      },
      "execution_count": null,
      "outputs": []
    },
    {
      "cell_type": "markdown",
      "source": [
        "## Preprocess"
      ],
      "metadata": {
        "id": "-tPIhFgUcYaf"
      }
    },
    {
      "cell_type": "markdown",
      "source": [
        "### Transform categorical data into numerical data (Laplace smoothing)"
      ],
      "metadata": {
        "id": "TXjtjd44nKTv"
      }
    },
    {
      "cell_type": "code",
      "source": [
        "def cat_to_num(df):\n",
        "    y_bar = df['target'].mean()\n",
        "\n",
        "    def apply_laplace_smooth(df, feature_col, k=30):\n",
        "        G = feature_col.value_counts()\n",
        "        y_per_G = df.groupby(feature_col.name)['target'].sum()\n",
        "        x_hat = (k * y_bar + y_per_G) / (k + G)\n",
        "        return feature_col.map(x_hat)\n",
        "\n",
        "    df[CAT_COL] = df[CAT_COL].apply(lambda f: apply_laplace_smooth(df, f)).astype(np.float16)\n",
        "\n",
        "    return df"
      ],
      "metadata": {
        "id": "CajtL9_RnQXN"
      },
      "execution_count": null,
      "outputs": []
    },
    {
      "cell_type": "code",
      "source": [
        "train = cat_to_num(train)\n",
        "train.head()"
      ],
      "metadata": {
        "id": "unHVEaYTqYi5",
        "colab": {
          "base_uri": "https://localhost:8080/",
          "height": 342
        },
        "outputId": "3608835d-838f-43e0-8ce2-81086808584f"
      },
      "execution_count": null,
      "outputs": [
        {
          "output_type": "execute_result",
          "data": {
            "text/plain": [
              "                                         customer_ID        S_2       P_2  \\\n",
              "0  0000099d6bd597052cdcda90ffabf56573fe9d7c79be5f... 2017-03-09  0.938477   \n",
              "1  0000099d6bd597052cdcda90ffabf56573fe9d7c79be5f... 2017-04-07  0.936523   \n",
              "2  0000099d6bd597052cdcda90ffabf56573fe9d7c79be5f... 2017-05-28  0.954102   \n",
              "3  0000099d6bd597052cdcda90ffabf56573fe9d7c79be5f... 2017-06-13  0.960449   \n",
              "4  0000099d6bd597052cdcda90ffabf56573fe9d7c79be5f... 2017-07-16  0.947266   \n",
              "\n",
              "       D_39       B_1       B_2       R_1       S_3      D_41       B_3  ...  \\\n",
              "0  0.001734  0.008728  1.006836  0.009224  0.124023  0.008774  0.004707  ...   \n",
              "1  0.005775  0.004925  1.000977  0.006153  0.126709  0.000798  0.002714  ...   \n",
              "2  0.091492  0.021652  1.009766  0.006817  0.123962  0.007599  0.009422  ...   \n",
              "3  0.002455  0.013687  1.002930  0.001372  0.117188  0.000685  0.005531  ...   \n",
              "4  0.002483  0.015190  1.000977  0.007607  0.117310  0.004654  0.009308  ...   \n",
              "\n",
              "   D_137  D_138     D_139     D_140     D_141  D_142     D_143     D_144  \\\n",
              "0    NaN    NaN  0.002426  0.003706  0.003819    NaN  0.000569  0.000610   \n",
              "1    NaN    NaN  0.003956  0.003166  0.005032    NaN  0.009575  0.005493   \n",
              "2    NaN    NaN  0.003269  0.007328  0.000427    NaN  0.003429  0.006985   \n",
              "3    NaN    NaN  0.006119  0.004517  0.003201    NaN  0.008423  0.006527   \n",
              "4    NaN    NaN  0.003672  0.004944  0.008888    NaN  0.001670  0.008125   \n",
              "\n",
              "      D_145  target  \n",
              "0  0.002674       0  \n",
              "1  0.009216       0  \n",
              "2  0.002604       0  \n",
              "3  0.009598       0  \n",
              "4  0.009827       0  \n",
              "\n",
              "[5 rows x 191 columns]"
            ],
            "text/html": [
              "<div>\n",
              "<style scoped>\n",
              "    .dataframe tbody tr th:only-of-type {\n",
              "        vertical-align: middle;\n",
              "    }\n",
              "\n",
              "    .dataframe tbody tr th {\n",
              "        vertical-align: top;\n",
              "    }\n",
              "\n",
              "    .dataframe thead th {\n",
              "        text-align: right;\n",
              "    }\n",
              "</style>\n",
              "<table border=\"1\" class=\"dataframe\">\n",
              "  <thead>\n",
              "    <tr style=\"text-align: right;\">\n",
              "      <th></th>\n",
              "      <th>customer_ID</th>\n",
              "      <th>S_2</th>\n",
              "      <th>P_2</th>\n",
              "      <th>D_39</th>\n",
              "      <th>B_1</th>\n",
              "      <th>B_2</th>\n",
              "      <th>R_1</th>\n",
              "      <th>S_3</th>\n",
              "      <th>D_41</th>\n",
              "      <th>B_3</th>\n",
              "      <th>...</th>\n",
              "      <th>D_137</th>\n",
              "      <th>D_138</th>\n",
              "      <th>D_139</th>\n",
              "      <th>D_140</th>\n",
              "      <th>D_141</th>\n",
              "      <th>D_142</th>\n",
              "      <th>D_143</th>\n",
              "      <th>D_144</th>\n",
              "      <th>D_145</th>\n",
              "      <th>target</th>\n",
              "    </tr>\n",
              "  </thead>\n",
              "  <tbody>\n",
              "    <tr>\n",
              "      <th>0</th>\n",
              "      <td>0000099d6bd597052cdcda90ffabf56573fe9d7c79be5f...</td>\n",
              "      <td>2017-03-09</td>\n",
              "      <td>0.938477</td>\n",
              "      <td>0.001734</td>\n",
              "      <td>0.008728</td>\n",
              "      <td>1.006836</td>\n",
              "      <td>0.009224</td>\n",
              "      <td>0.124023</td>\n",
              "      <td>0.008774</td>\n",
              "      <td>0.004707</td>\n",
              "      <td>...</td>\n",
              "      <td>NaN</td>\n",
              "      <td>NaN</td>\n",
              "      <td>0.002426</td>\n",
              "      <td>0.003706</td>\n",
              "      <td>0.003819</td>\n",
              "      <td>NaN</td>\n",
              "      <td>0.000569</td>\n",
              "      <td>0.000610</td>\n",
              "      <td>0.002674</td>\n",
              "      <td>0</td>\n",
              "    </tr>\n",
              "    <tr>\n",
              "      <th>1</th>\n",
              "      <td>0000099d6bd597052cdcda90ffabf56573fe9d7c79be5f...</td>\n",
              "      <td>2017-04-07</td>\n",
              "      <td>0.936523</td>\n",
              "      <td>0.005775</td>\n",
              "      <td>0.004925</td>\n",
              "      <td>1.000977</td>\n",
              "      <td>0.006153</td>\n",
              "      <td>0.126709</td>\n",
              "      <td>0.000798</td>\n",
              "      <td>0.002714</td>\n",
              "      <td>...</td>\n",
              "      <td>NaN</td>\n",
              "      <td>NaN</td>\n",
              "      <td>0.003956</td>\n",
              "      <td>0.003166</td>\n",
              "      <td>0.005032</td>\n",
              "      <td>NaN</td>\n",
              "      <td>0.009575</td>\n",
              "      <td>0.005493</td>\n",
              "      <td>0.009216</td>\n",
              "      <td>0</td>\n",
              "    </tr>\n",
              "    <tr>\n",
              "      <th>2</th>\n",
              "      <td>0000099d6bd597052cdcda90ffabf56573fe9d7c79be5f...</td>\n",
              "      <td>2017-05-28</td>\n",
              "      <td>0.954102</td>\n",
              "      <td>0.091492</td>\n",
              "      <td>0.021652</td>\n",
              "      <td>1.009766</td>\n",
              "      <td>0.006817</td>\n",
              "      <td>0.123962</td>\n",
              "      <td>0.007599</td>\n",
              "      <td>0.009422</td>\n",
              "      <td>...</td>\n",
              "      <td>NaN</td>\n",
              "      <td>NaN</td>\n",
              "      <td>0.003269</td>\n",
              "      <td>0.007328</td>\n",
              "      <td>0.000427</td>\n",
              "      <td>NaN</td>\n",
              "      <td>0.003429</td>\n",
              "      <td>0.006985</td>\n",
              "      <td>0.002604</td>\n",
              "      <td>0</td>\n",
              "    </tr>\n",
              "    <tr>\n",
              "      <th>3</th>\n",
              "      <td>0000099d6bd597052cdcda90ffabf56573fe9d7c79be5f...</td>\n",
              "      <td>2017-06-13</td>\n",
              "      <td>0.960449</td>\n",
              "      <td>0.002455</td>\n",
              "      <td>0.013687</td>\n",
              "      <td>1.002930</td>\n",
              "      <td>0.001372</td>\n",
              "      <td>0.117188</td>\n",
              "      <td>0.000685</td>\n",
              "      <td>0.005531</td>\n",
              "      <td>...</td>\n",
              "      <td>NaN</td>\n",
              "      <td>NaN</td>\n",
              "      <td>0.006119</td>\n",
              "      <td>0.004517</td>\n",
              "      <td>0.003201</td>\n",
              "      <td>NaN</td>\n",
              "      <td>0.008423</td>\n",
              "      <td>0.006527</td>\n",
              "      <td>0.009598</td>\n",
              "      <td>0</td>\n",
              "    </tr>\n",
              "    <tr>\n",
              "      <th>4</th>\n",
              "      <td>0000099d6bd597052cdcda90ffabf56573fe9d7c79be5f...</td>\n",
              "      <td>2017-07-16</td>\n",
              "      <td>0.947266</td>\n",
              "      <td>0.002483</td>\n",
              "      <td>0.015190</td>\n",
              "      <td>1.000977</td>\n",
              "      <td>0.007607</td>\n",
              "      <td>0.117310</td>\n",
              "      <td>0.004654</td>\n",
              "      <td>0.009308</td>\n",
              "      <td>...</td>\n",
              "      <td>NaN</td>\n",
              "      <td>NaN</td>\n",
              "      <td>0.003672</td>\n",
              "      <td>0.004944</td>\n",
              "      <td>0.008888</td>\n",
              "      <td>NaN</td>\n",
              "      <td>0.001670</td>\n",
              "      <td>0.008125</td>\n",
              "      <td>0.009827</td>\n",
              "      <td>0</td>\n",
              "    </tr>\n",
              "  </tbody>\n",
              "</table>\n",
              "<p>5 rows × 191 columns</p>\n",
              "</div>"
            ]
          },
          "metadata": {},
          "execution_count": 6
        }
      ]
    },
    {
      "cell_type": "code",
      "source": [
        "train.to_pickle(DATA_PATH + 'train_cat_transed.pkl')"
      ],
      "metadata": {
        "id": "34KcYMn4Gs6m"
      },
      "execution_count": null,
      "outputs": []
    },
    {
      "cell_type": "markdown",
      "source": [
        "### Handle missing values"
      ],
      "metadata": {
        "id": "_ZYW5Ar7ca8S"
      }
    },
    {
      "cell_type": "code",
      "source": [
        "def impute_mean(df):\n",
        "    imputer = SimpleImputer().set_output(transform='pandas')\n",
        "\n",
        "    trans_df = imputer.fit_transform(df.drop(['customer_ID', 'S_2'], axis=1))\n",
        "    imputed_df = pd.concat([df[['customer_ID', 'S_2']], trans_df], axis=1)\n",
        "\n",
        "    assert sum(imputed_df.isna().any()) == 0\n",
        "\n",
        "    return imputed_df"
      ],
      "metadata": {
        "id": "3mVkXKQ4rQMr"
      },
      "execution_count": null,
      "outputs": []
    },
    {
      "cell_type": "code",
      "source": [
        "def impute_knn(df):\n",
        "    imputer = KNNImputer(n_neighbors=3).set_output(transform='pandas')\n",
        "    trans_df = imputer.fit_transform(df.drop(['customer_ID', 'S_2'], axis=1))\n",
        "    imputed_df = pd.concat([df[['customer_ID', 'S_2']], trans_df], axis=1)\n",
        "\n",
        "    assert sum(imputed_df.isna().any()) == 0\n",
        "\n",
        "    return imputed_df"
      ],
      "metadata": {
        "id": "xAbrDIyWkeGn"
      },
      "execution_count": null,
      "outputs": []
    },
    {
      "cell_type": "code",
      "source": [
        "def impute_drop(df):\n",
        "    # Get all columns that have NaN values\n",
        "    nan_cols = df.columns[df.isna().any()].tolist()\n",
        "\n",
        "    # Drop columns that have > 20% NaN values\n",
        "    df = df.dropna(thresh=df.shape[0]*0.8, axis=1)\n",
        "\n",
        "    df = df.dropna()\n",
        "    df = df.reset_index(drop=True)\n",
        "\n",
        "    # No NaN values at this point\n",
        "    assert sum(imputed_df.isna().any()) == 0\n",
        "\n",
        "    return df"
      ],
      "metadata": {
        "id": "FgyFprcgsoLo"
      },
      "execution_count": null,
      "outputs": []
    },
    {
      "cell_type": "code",
      "source": [
        "def find_impute_val(df, feature_series):\n",
        "    feature_name = feature_series.name\n",
        "    bin_col_name = feature_name + \"_bin\"\n",
        "\n",
        "    # 1. Calculate percentiles (with 10 bins) for each feature that has missing values\n",
        "    df[bin_col_name] = pd.qcut(x=feature_series, q=10, labels=False, duplicates='drop')\n",
        "\n",
        "    # 2. Calculate target label rates for each bin of each feature \n",
        "    target_rate_per_bin = df.groupby(bin_col_name)['target'].mean()\n",
        "    \n",
        "    # 3. Determine the bin that the imputed missing values fall inside and assign the target label rate\n",
        "    for bin_num in range(len(target_rate_per_bin)):\n",
        "        bool_mask = (df[bin_col_name]==bin_num) & (train[feature_name].isna())\n",
        "        feature_series.mask(bool_mask, target_rate_per_bin[bin_num])\n",
        "    \n",
        "    df.drop(bin_col_name, axis=1, inplace=True)\n",
        "    \n",
        "    return feature_series"
      ],
      "metadata": {
        "id": "-rEslgqJb2BR"
      },
      "execution_count": null,
      "outputs": []
    },
    {
      "cell_type": "code",
      "source": [
        "def handle_missing_values(df, impute_fn):\n",
        "    filled_df = impute_fn(df)\n",
        "\n",
        "    nan_col = filled_df.columns[filled_df.isna().any()].tolist()\n",
        "    filled_df[nan_col] = filled_df[nan_col].apply(lambda f: find_impute_val(df, f))\n",
        "\n",
        "    assert sum(filled_df.isna().any()) == 0\n",
        "\n",
        "    return filled_df"
      ],
      "metadata": {
        "id": "U1wquo3vWGrE"
      },
      "execution_count": null,
      "outputs": []
    },
    {
      "cell_type": "code",
      "source": [
        "train = handle_missing_values(train, impute_mean)\n",
        "train.head()"
      ],
      "metadata": {
        "colab": {
          "base_uri": "https://localhost:8080/",
          "height": 342
        },
        "id": "gmAUqKQGNWEp",
        "outputId": "a809a845-e593-46d8-fee8-bc2579f35e11"
      },
      "execution_count": null,
      "outputs": [
        {
          "output_type": "execute_result",
          "data": {
            "text/plain": [
              "                                         customer_ID        S_2       P_2  \\\n",
              "0  0000099d6bd597052cdcda90ffabf56573fe9d7c79be5f... 2017-03-09  0.938477   \n",
              "1  0000099d6bd597052cdcda90ffabf56573fe9d7c79be5f... 2017-04-07  0.936523   \n",
              "2  0000099d6bd597052cdcda90ffabf56573fe9d7c79be5f... 2017-05-28  0.954102   \n",
              "3  0000099d6bd597052cdcda90ffabf56573fe9d7c79be5f... 2017-06-13  0.960449   \n",
              "4  0000099d6bd597052cdcda90ffabf56573fe9d7c79be5f... 2017-07-16  0.947266   \n",
              "\n",
              "       D_39       B_1       B_2       R_1       S_3      D_41       B_3  ...  \\\n",
              "0  0.001734  0.008728  1.006836  0.009224  0.124023  0.008774  0.004707  ...   \n",
              "1  0.005775  0.004925  1.000977  0.006153  0.126709  0.000798  0.002714  ...   \n",
              "2  0.091492  0.021652  1.009766  0.006817  0.123962  0.007599  0.009422  ...   \n",
              "3  0.002455  0.013687  1.002930  0.001372  0.117188  0.000685  0.005531  ...   \n",
              "4  0.002483  0.015190  1.000977  0.007607  0.117310  0.004654  0.009308  ...   \n",
              "\n",
              "      D_137     D_138     D_139     D_140     D_141     D_142     D_143  \\\n",
              "0  0.014244  0.164617  0.002426  0.003706  0.003819  0.390799  0.000569   \n",
              "1  0.014244  0.164617  0.003956  0.003166  0.005032  0.390799  0.009575   \n",
              "2  0.014244  0.164617  0.003269  0.007328  0.000427  0.390799  0.003429   \n",
              "3  0.014244  0.164617  0.006119  0.004517  0.003201  0.390799  0.008423   \n",
              "4  0.014244  0.164617  0.003672  0.004944  0.008888  0.390799  0.001670   \n",
              "\n",
              "      D_144     D_145  target  \n",
              "0  0.000610  0.002674     0.0  \n",
              "1  0.005493  0.009216     0.0  \n",
              "2  0.006985  0.002604     0.0  \n",
              "3  0.006527  0.009598     0.0  \n",
              "4  0.008125  0.009827     0.0  \n",
              "\n",
              "[5 rows x 191 columns]"
            ],
            "text/html": [
              "<div>\n",
              "<style scoped>\n",
              "    .dataframe tbody tr th:only-of-type {\n",
              "        vertical-align: middle;\n",
              "    }\n",
              "\n",
              "    .dataframe tbody tr th {\n",
              "        vertical-align: top;\n",
              "    }\n",
              "\n",
              "    .dataframe thead th {\n",
              "        text-align: right;\n",
              "    }\n",
              "</style>\n",
              "<table border=\"1\" class=\"dataframe\">\n",
              "  <thead>\n",
              "    <tr style=\"text-align: right;\">\n",
              "      <th></th>\n",
              "      <th>customer_ID</th>\n",
              "      <th>S_2</th>\n",
              "      <th>P_2</th>\n",
              "      <th>D_39</th>\n",
              "      <th>B_1</th>\n",
              "      <th>B_2</th>\n",
              "      <th>R_1</th>\n",
              "      <th>S_3</th>\n",
              "      <th>D_41</th>\n",
              "      <th>B_3</th>\n",
              "      <th>...</th>\n",
              "      <th>D_137</th>\n",
              "      <th>D_138</th>\n",
              "      <th>D_139</th>\n",
              "      <th>D_140</th>\n",
              "      <th>D_141</th>\n",
              "      <th>D_142</th>\n",
              "      <th>D_143</th>\n",
              "      <th>D_144</th>\n",
              "      <th>D_145</th>\n",
              "      <th>target</th>\n",
              "    </tr>\n",
              "  </thead>\n",
              "  <tbody>\n",
              "    <tr>\n",
              "      <th>0</th>\n",
              "      <td>0000099d6bd597052cdcda90ffabf56573fe9d7c79be5f...</td>\n",
              "      <td>2017-03-09</td>\n",
              "      <td>0.938477</td>\n",
              "      <td>0.001734</td>\n",
              "      <td>0.008728</td>\n",
              "      <td>1.006836</td>\n",
              "      <td>0.009224</td>\n",
              "      <td>0.124023</td>\n",
              "      <td>0.008774</td>\n",
              "      <td>0.004707</td>\n",
              "      <td>...</td>\n",
              "      <td>0.014244</td>\n",
              "      <td>0.164617</td>\n",
              "      <td>0.002426</td>\n",
              "      <td>0.003706</td>\n",
              "      <td>0.003819</td>\n",
              "      <td>0.390799</td>\n",
              "      <td>0.000569</td>\n",
              "      <td>0.000610</td>\n",
              "      <td>0.002674</td>\n",
              "      <td>0.0</td>\n",
              "    </tr>\n",
              "    <tr>\n",
              "      <th>1</th>\n",
              "      <td>0000099d6bd597052cdcda90ffabf56573fe9d7c79be5f...</td>\n",
              "      <td>2017-04-07</td>\n",
              "      <td>0.936523</td>\n",
              "      <td>0.005775</td>\n",
              "      <td>0.004925</td>\n",
              "      <td>1.000977</td>\n",
              "      <td>0.006153</td>\n",
              "      <td>0.126709</td>\n",
              "      <td>0.000798</td>\n",
              "      <td>0.002714</td>\n",
              "      <td>...</td>\n",
              "      <td>0.014244</td>\n",
              "      <td>0.164617</td>\n",
              "      <td>0.003956</td>\n",
              "      <td>0.003166</td>\n",
              "      <td>0.005032</td>\n",
              "      <td>0.390799</td>\n",
              "      <td>0.009575</td>\n",
              "      <td>0.005493</td>\n",
              "      <td>0.009216</td>\n",
              "      <td>0.0</td>\n",
              "    </tr>\n",
              "    <tr>\n",
              "      <th>2</th>\n",
              "      <td>0000099d6bd597052cdcda90ffabf56573fe9d7c79be5f...</td>\n",
              "      <td>2017-05-28</td>\n",
              "      <td>0.954102</td>\n",
              "      <td>0.091492</td>\n",
              "      <td>0.021652</td>\n",
              "      <td>1.009766</td>\n",
              "      <td>0.006817</td>\n",
              "      <td>0.123962</td>\n",
              "      <td>0.007599</td>\n",
              "      <td>0.009422</td>\n",
              "      <td>...</td>\n",
              "      <td>0.014244</td>\n",
              "      <td>0.164617</td>\n",
              "      <td>0.003269</td>\n",
              "      <td>0.007328</td>\n",
              "      <td>0.000427</td>\n",
              "      <td>0.390799</td>\n",
              "      <td>0.003429</td>\n",
              "      <td>0.006985</td>\n",
              "      <td>0.002604</td>\n",
              "      <td>0.0</td>\n",
              "    </tr>\n",
              "    <tr>\n",
              "      <th>3</th>\n",
              "      <td>0000099d6bd597052cdcda90ffabf56573fe9d7c79be5f...</td>\n",
              "      <td>2017-06-13</td>\n",
              "      <td>0.960449</td>\n",
              "      <td>0.002455</td>\n",
              "      <td>0.013687</td>\n",
              "      <td>1.002930</td>\n",
              "      <td>0.001372</td>\n",
              "      <td>0.117188</td>\n",
              "      <td>0.000685</td>\n",
              "      <td>0.005531</td>\n",
              "      <td>...</td>\n",
              "      <td>0.014244</td>\n",
              "      <td>0.164617</td>\n",
              "      <td>0.006119</td>\n",
              "      <td>0.004517</td>\n",
              "      <td>0.003201</td>\n",
              "      <td>0.390799</td>\n",
              "      <td>0.008423</td>\n",
              "      <td>0.006527</td>\n",
              "      <td>0.009598</td>\n",
              "      <td>0.0</td>\n",
              "    </tr>\n",
              "    <tr>\n",
              "      <th>4</th>\n",
              "      <td>0000099d6bd597052cdcda90ffabf56573fe9d7c79be5f...</td>\n",
              "      <td>2017-07-16</td>\n",
              "      <td>0.947266</td>\n",
              "      <td>0.002483</td>\n",
              "      <td>0.015190</td>\n",
              "      <td>1.000977</td>\n",
              "      <td>0.007607</td>\n",
              "      <td>0.117310</td>\n",
              "      <td>0.004654</td>\n",
              "      <td>0.009308</td>\n",
              "      <td>...</td>\n",
              "      <td>0.014244</td>\n",
              "      <td>0.164617</td>\n",
              "      <td>0.003672</td>\n",
              "      <td>0.004944</td>\n",
              "      <td>0.008888</td>\n",
              "      <td>0.390799</td>\n",
              "      <td>0.001670</td>\n",
              "      <td>0.008125</td>\n",
              "      <td>0.009827</td>\n",
              "      <td>0.0</td>\n",
              "    </tr>\n",
              "  </tbody>\n",
              "</table>\n",
              "<p>5 rows × 191 columns</p>\n",
              "</div>"
            ]
          },
          "metadata": {},
          "execution_count": 13
        }
      ]
    },
    {
      "cell_type": "code",
      "source": [
        "train.to_pickle(DATA_PATH + 'train_nan_imputed.pkl')"
      ],
      "metadata": {
        "id": "U33dNG-tGrVv"
      },
      "execution_count": null,
      "outputs": []
    },
    {
      "cell_type": "markdown",
      "source": [
        "### Handle Outliers"
      ],
      "metadata": {
        "id": "7FHTfKsnc1ko"
      }
    },
    {
      "cell_type": "code",
      "source": [
        "train = pd.read_pickle(DATA_PATH + 'train_nan_imputed.pkl')"
      ],
      "metadata": {
        "id": "0kW4KXbrJlEz"
      },
      "execution_count": null,
      "outputs": []
    },
    {
      "cell_type": "code",
      "source": [
        "def compute_IQR(feature):\n",
        "    Q1 = np.percentile(feature, 5, axis=0)\n",
        "    Q3 = np.percentile(feature, 95, axis=0)\n",
        "    IQR = Q3 - Q1\n",
        "    thres = 1.5\n",
        "    upper_bound = Q3 + thres * IQR\n",
        "    lower_bound = Q1 - thres * IQR\n",
        "\n",
        "    return feature.loc[(feature >= lower_bound) & (feature <= upper_bound)]"
      ],
      "metadata": {
        "id": "GnWyPhuUacFa"
      },
      "execution_count": null,
      "outputs": []
    },
    {
      "cell_type": "code",
      "source": [
        "def handle_outliers(df, fn):\n",
        "    trans_df = df.drop(['customer_ID', 'S_2', 'target'], axis=1).apply(lambda f: fn(f))\n",
        "    return pd.concat([df[['customer_ID', 'S_2', 'target']], trans_df], axis=1).dropna()"
      ],
      "metadata": {
        "id": "uVuumbQTi2QP"
      },
      "execution_count": null,
      "outputs": []
    },
    {
      "cell_type": "code",
      "source": [
        "train = handle_outliers(train, compute_IQR)\n",
        "train.head()"
      ],
      "metadata": {
        "colab": {
          "base_uri": "https://localhost:8080/",
          "height": 342
        },
        "id": "ScvAWeO5ah_R",
        "outputId": "8cc04d1d-a0fb-4113-d4df-af23b7baadd0"
      },
      "execution_count": null,
      "outputs": [
        {
          "output_type": "execute_result",
          "data": {
            "text/plain": [
              "                                         customer_ID        S_2  target  \\\n",
              "5  0000099d6bd597052cdcda90ffabf56573fe9d7c79be5f... 2017-08-04     0.0   \n",
              "6  0000099d6bd597052cdcda90ffabf56573fe9d7c79be5f... 2017-09-18     0.0   \n",
              "7  0000099d6bd597052cdcda90ffabf56573fe9d7c79be5f... 2017-10-08     0.0   \n",
              "8  0000099d6bd597052cdcda90ffabf56573fe9d7c79be5f... 2017-11-20     0.0   \n",
              "9  0000099d6bd597052cdcda90ffabf56573fe9d7c79be5f... 2017-12-04     0.0   \n",
              "\n",
              "        P_2      D_39       B_1       B_2       R_1       S_3      D_41  ...  \\\n",
              "5  0.945801  0.001746  0.007866  1.004883  0.004219  0.110962  0.009857  ...   \n",
              "6  0.940918  0.002182  0.018860  1.007812  0.004509  0.103333  0.006603  ...   \n",
              "7  0.914551  0.003029  0.014328  1.000000  0.000263  0.108093  0.009529  ...   \n",
              "8  0.950684  0.009895  0.016891  1.003906  0.001789  0.102783  0.002520  ...   \n",
              "9  0.868652  0.001082  0.001930  1.007812  0.001772  0.100464  0.004627  ...   \n",
              "\n",
              "      D_136     D_137     D_138     D_139     D_140     D_141     D_142  \\\n",
              "5  0.242772  0.014244  0.164617  0.001925  0.008598  0.004528  0.390799   \n",
              "6  0.242772  0.014244  0.164617  0.001336  0.004360  0.009384  0.390799   \n",
              "7  0.242772  0.014244  0.164617  0.002398  0.008453  0.005554  0.390799   \n",
              "8  0.242772  0.014244  0.164617  0.009743  0.003967  0.007942  0.390799   \n",
              "9  0.242772  0.014244  0.164617  0.003611  0.009605  0.007267  0.390799   \n",
              "\n",
              "      D_143     D_144     D_145  \n",
              "5  0.000674  0.002222  0.002884  \n",
              "6  0.007729  0.007660  0.002224  \n",
              "7  0.001831  0.009613  0.007385  \n",
              "8  0.008720  0.004368  0.000996  \n",
              "9  0.008766  0.004753  0.009071  \n",
              "\n",
              "[5 rows x 191 columns]"
            ],
            "text/html": [
              "<div>\n",
              "<style scoped>\n",
              "    .dataframe tbody tr th:only-of-type {\n",
              "        vertical-align: middle;\n",
              "    }\n",
              "\n",
              "    .dataframe tbody tr th {\n",
              "        vertical-align: top;\n",
              "    }\n",
              "\n",
              "    .dataframe thead th {\n",
              "        text-align: right;\n",
              "    }\n",
              "</style>\n",
              "<table border=\"1\" class=\"dataframe\">\n",
              "  <thead>\n",
              "    <tr style=\"text-align: right;\">\n",
              "      <th></th>\n",
              "      <th>customer_ID</th>\n",
              "      <th>S_2</th>\n",
              "      <th>target</th>\n",
              "      <th>P_2</th>\n",
              "      <th>D_39</th>\n",
              "      <th>B_1</th>\n",
              "      <th>B_2</th>\n",
              "      <th>R_1</th>\n",
              "      <th>S_3</th>\n",
              "      <th>D_41</th>\n",
              "      <th>...</th>\n",
              "      <th>D_136</th>\n",
              "      <th>D_137</th>\n",
              "      <th>D_138</th>\n",
              "      <th>D_139</th>\n",
              "      <th>D_140</th>\n",
              "      <th>D_141</th>\n",
              "      <th>D_142</th>\n",
              "      <th>D_143</th>\n",
              "      <th>D_144</th>\n",
              "      <th>D_145</th>\n",
              "    </tr>\n",
              "  </thead>\n",
              "  <tbody>\n",
              "    <tr>\n",
              "      <th>5</th>\n",
              "      <td>0000099d6bd597052cdcda90ffabf56573fe9d7c79be5f...</td>\n",
              "      <td>2017-08-04</td>\n",
              "      <td>0.0</td>\n",
              "      <td>0.945801</td>\n",
              "      <td>0.001746</td>\n",
              "      <td>0.007866</td>\n",
              "      <td>1.004883</td>\n",
              "      <td>0.004219</td>\n",
              "      <td>0.110962</td>\n",
              "      <td>0.009857</td>\n",
              "      <td>...</td>\n",
              "      <td>0.242772</td>\n",
              "      <td>0.014244</td>\n",
              "      <td>0.164617</td>\n",
              "      <td>0.001925</td>\n",
              "      <td>0.008598</td>\n",
              "      <td>0.004528</td>\n",
              "      <td>0.390799</td>\n",
              "      <td>0.000674</td>\n",
              "      <td>0.002222</td>\n",
              "      <td>0.002884</td>\n",
              "    </tr>\n",
              "    <tr>\n",
              "      <th>6</th>\n",
              "      <td>0000099d6bd597052cdcda90ffabf56573fe9d7c79be5f...</td>\n",
              "      <td>2017-09-18</td>\n",
              "      <td>0.0</td>\n",
              "      <td>0.940918</td>\n",
              "      <td>0.002182</td>\n",
              "      <td>0.018860</td>\n",
              "      <td>1.007812</td>\n",
              "      <td>0.004509</td>\n",
              "      <td>0.103333</td>\n",
              "      <td>0.006603</td>\n",
              "      <td>...</td>\n",
              "      <td>0.242772</td>\n",
              "      <td>0.014244</td>\n",
              "      <td>0.164617</td>\n",
              "      <td>0.001336</td>\n",
              "      <td>0.004360</td>\n",
              "      <td>0.009384</td>\n",
              "      <td>0.390799</td>\n",
              "      <td>0.007729</td>\n",
              "      <td>0.007660</td>\n",
              "      <td>0.002224</td>\n",
              "    </tr>\n",
              "    <tr>\n",
              "      <th>7</th>\n",
              "      <td>0000099d6bd597052cdcda90ffabf56573fe9d7c79be5f...</td>\n",
              "      <td>2017-10-08</td>\n",
              "      <td>0.0</td>\n",
              "      <td>0.914551</td>\n",
              "      <td>0.003029</td>\n",
              "      <td>0.014328</td>\n",
              "      <td>1.000000</td>\n",
              "      <td>0.000263</td>\n",
              "      <td>0.108093</td>\n",
              "      <td>0.009529</td>\n",
              "      <td>...</td>\n",
              "      <td>0.242772</td>\n",
              "      <td>0.014244</td>\n",
              "      <td>0.164617</td>\n",
              "      <td>0.002398</td>\n",
              "      <td>0.008453</td>\n",
              "      <td>0.005554</td>\n",
              "      <td>0.390799</td>\n",
              "      <td>0.001831</td>\n",
              "      <td>0.009613</td>\n",
              "      <td>0.007385</td>\n",
              "    </tr>\n",
              "    <tr>\n",
              "      <th>8</th>\n",
              "      <td>0000099d6bd597052cdcda90ffabf56573fe9d7c79be5f...</td>\n",
              "      <td>2017-11-20</td>\n",
              "      <td>0.0</td>\n",
              "      <td>0.950684</td>\n",
              "      <td>0.009895</td>\n",
              "      <td>0.016891</td>\n",
              "      <td>1.003906</td>\n",
              "      <td>0.001789</td>\n",
              "      <td>0.102783</td>\n",
              "      <td>0.002520</td>\n",
              "      <td>...</td>\n",
              "      <td>0.242772</td>\n",
              "      <td>0.014244</td>\n",
              "      <td>0.164617</td>\n",
              "      <td>0.009743</td>\n",
              "      <td>0.003967</td>\n",
              "      <td>0.007942</td>\n",
              "      <td>0.390799</td>\n",
              "      <td>0.008720</td>\n",
              "      <td>0.004368</td>\n",
              "      <td>0.000996</td>\n",
              "    </tr>\n",
              "    <tr>\n",
              "      <th>9</th>\n",
              "      <td>0000099d6bd597052cdcda90ffabf56573fe9d7c79be5f...</td>\n",
              "      <td>2017-12-04</td>\n",
              "      <td>0.0</td>\n",
              "      <td>0.868652</td>\n",
              "      <td>0.001082</td>\n",
              "      <td>0.001930</td>\n",
              "      <td>1.007812</td>\n",
              "      <td>0.001772</td>\n",
              "      <td>0.100464</td>\n",
              "      <td>0.004627</td>\n",
              "      <td>...</td>\n",
              "      <td>0.242772</td>\n",
              "      <td>0.014244</td>\n",
              "      <td>0.164617</td>\n",
              "      <td>0.003611</td>\n",
              "      <td>0.009605</td>\n",
              "      <td>0.007267</td>\n",
              "      <td>0.390799</td>\n",
              "      <td>0.008766</td>\n",
              "      <td>0.004753</td>\n",
              "      <td>0.009071</td>\n",
              "    </tr>\n",
              "  </tbody>\n",
              "</table>\n",
              "<p>5 rows × 191 columns</p>\n",
              "</div>"
            ]
          },
          "metadata": {},
          "execution_count": 30
        }
      ]
    },
    {
      "cell_type": "code",
      "source": [
        "train.to_pickle(DATA_PATH + 'train_outlier_removed.pkl')"
      ],
      "metadata": {
        "id": "dwRcc6oCGwWj"
      },
      "execution_count": null,
      "outputs": []
    },
    {
      "cell_type": "markdown",
      "source": [
        "### Reduce Skewness"
      ],
      "metadata": {
        "id": "0rc8A9ZqURDQ"
      }
    },
    {
      "cell_type": "code",
      "source": [
        "# Already performed standardization\n",
        "def reduce_skewness_yeo_johnson(df):\n",
        "    pt = PowerTransformer().set_output(transform='pandas')\n",
        "    trans_df = pt.fit_transform(train.drop(['customer_ID', 'S_2', 'target'], axis=1))\n",
        "    return pd.concat([df[['customer_ID', 'S_2', 'target']], trans_df], axis=1)"
      ],
      "metadata": {
        "id": "KDAaDJgxtOgi"
      },
      "execution_count": null,
      "outputs": []
    },
    {
      "cell_type": "code",
      "source": [
        "train = reduce_skewness_yeo_johnson(train)\n",
        "train.head()"
      ],
      "metadata": {
        "colab": {
          "base_uri": "https://localhost:8080/",
          "height": 414
        },
        "id": "ddVbd_uRt6LG",
        "outputId": "7ab9bb23-48f0-40f4-c3c5-ca7bcc069c14"
      },
      "execution_count": null,
      "outputs": [
        {
          "output_type": "stream",
          "name": "stderr",
          "text": [
            "/Users/roxyk/opt/anaconda3/lib/python3.9/site-packages/numpy/core/_methods.py:236: RuntimeWarning: overflow encountered in multiply\n",
            "  x = um.multiply(x, x, out=x)\n",
            "/Users/roxyk/opt/anaconda3/lib/python3.9/site-packages/numpy/core/_methods.py:247: RuntimeWarning: overflow encountered in reduce\n",
            "  ret = umr_sum(x, axis, dtype, out, keepdims=keepdims, where=where)\n"
          ]
        },
        {
          "output_type": "execute_result",
          "data": {
            "text/plain": [
              "                                         customer_ID        S_2  target  \\\n",
              "5  0000099d6bd597052cdcda90ffabf56573fe9d7c79be5f... 2017-08-04     0.0   \n",
              "6  0000099d6bd597052cdcda90ffabf56573fe9d7c79be5f... 2017-09-18     0.0   \n",
              "7  0000099d6bd597052cdcda90ffabf56573fe9d7c79be5f... 2017-10-08     0.0   \n",
              "8  0000099d6bd597052cdcda90ffabf56573fe9d7c79be5f... 2017-11-20     0.0   \n",
              "9  0000099d6bd597052cdcda90ffabf56573fe9d7c79be5f... 2017-12-04     0.0   \n",
              "\n",
              "        P_2      D_39       B_1       B_2       R_1       S_3      D_41  ...  \\\n",
              "5  1.167299 -0.753275 -0.596688  1.050376 -0.200328 -0.899846  0.779986  ...   \n",
              "6  1.125353 -0.742243 -0.382683  1.070227 -0.103956 -1.012425  0.203476  ...   \n",
              "7  0.905170 -0.720954 -0.468895  1.017525 -1.711672 -0.941778  0.726907  ...   \n",
              "8  1.209616 -0.555256 -0.419792  1.043782 -1.082661 -1.020662 -0.702712  ...   \n",
              "9  0.546506 -0.770175 -0.719339  1.070227 -1.089397 -1.055643 -0.206806  ...   \n",
              "\n",
              "          D_136         D_137         D_138     D_139     D_140     D_141  \\\n",
              "5 -1.110223e-16  8.673617e-18 -4.547474e-13 -0.482683  1.246981 -0.381890   \n",
              "6 -1.110223e-16  8.673617e-18 -4.547474e-13 -0.506085 -0.221560 -0.190885   \n",
              "7 -1.110223e-16  8.673617e-18 -4.547474e-13 -0.464004  1.196760 -0.340435   \n",
              "8 -1.110223e-16  8.673617e-18 -4.547474e-13 -0.188527 -0.357733 -0.246248   \n",
              "9 -1.110223e-16  8.673617e-18 -4.547474e-13 -0.416634  1.595867 -0.272559   \n",
              "\n",
              "      D_142     D_143     D_144     D_145  \n",
              "5  0.008572 -0.532790 -0.585953 -0.564156  \n",
              "6  0.008572 -0.261419  0.033205 -0.638289  \n",
              "7  0.008572 -0.486507  0.230471 -0.101710  \n",
              "8  0.008572 -0.225266 -0.328618 -0.780923  \n",
              "9  0.008572 -0.223609 -0.284267  0.053637  \n",
              "\n",
              "[5 rows x 191 columns]"
            ],
            "text/html": [
              "<div>\n",
              "<style scoped>\n",
              "    .dataframe tbody tr th:only-of-type {\n",
              "        vertical-align: middle;\n",
              "    }\n",
              "\n",
              "    .dataframe tbody tr th {\n",
              "        vertical-align: top;\n",
              "    }\n",
              "\n",
              "    .dataframe thead th {\n",
              "        text-align: right;\n",
              "    }\n",
              "</style>\n",
              "<table border=\"1\" class=\"dataframe\">\n",
              "  <thead>\n",
              "    <tr style=\"text-align: right;\">\n",
              "      <th></th>\n",
              "      <th>customer_ID</th>\n",
              "      <th>S_2</th>\n",
              "      <th>target</th>\n",
              "      <th>P_2</th>\n",
              "      <th>D_39</th>\n",
              "      <th>B_1</th>\n",
              "      <th>B_2</th>\n",
              "      <th>R_1</th>\n",
              "      <th>S_3</th>\n",
              "      <th>D_41</th>\n",
              "      <th>...</th>\n",
              "      <th>D_136</th>\n",
              "      <th>D_137</th>\n",
              "      <th>D_138</th>\n",
              "      <th>D_139</th>\n",
              "      <th>D_140</th>\n",
              "      <th>D_141</th>\n",
              "      <th>D_142</th>\n",
              "      <th>D_143</th>\n",
              "      <th>D_144</th>\n",
              "      <th>D_145</th>\n",
              "    </tr>\n",
              "  </thead>\n",
              "  <tbody>\n",
              "    <tr>\n",
              "      <th>5</th>\n",
              "      <td>0000099d6bd597052cdcda90ffabf56573fe9d7c79be5f...</td>\n",
              "      <td>2017-08-04</td>\n",
              "      <td>0.0</td>\n",
              "      <td>1.167299</td>\n",
              "      <td>-0.753275</td>\n",
              "      <td>-0.596688</td>\n",
              "      <td>1.050376</td>\n",
              "      <td>-0.200328</td>\n",
              "      <td>-0.899846</td>\n",
              "      <td>0.779986</td>\n",
              "      <td>...</td>\n",
              "      <td>-1.110223e-16</td>\n",
              "      <td>8.673617e-18</td>\n",
              "      <td>-4.547474e-13</td>\n",
              "      <td>-0.482683</td>\n",
              "      <td>1.246981</td>\n",
              "      <td>-0.381890</td>\n",
              "      <td>0.008572</td>\n",
              "      <td>-0.532790</td>\n",
              "      <td>-0.585953</td>\n",
              "      <td>-0.564156</td>\n",
              "    </tr>\n",
              "    <tr>\n",
              "      <th>6</th>\n",
              "      <td>0000099d6bd597052cdcda90ffabf56573fe9d7c79be5f...</td>\n",
              "      <td>2017-09-18</td>\n",
              "      <td>0.0</td>\n",
              "      <td>1.125353</td>\n",
              "      <td>-0.742243</td>\n",
              "      <td>-0.382683</td>\n",
              "      <td>1.070227</td>\n",
              "      <td>-0.103956</td>\n",
              "      <td>-1.012425</td>\n",
              "      <td>0.203476</td>\n",
              "      <td>...</td>\n",
              "      <td>-1.110223e-16</td>\n",
              "      <td>8.673617e-18</td>\n",
              "      <td>-4.547474e-13</td>\n",
              "      <td>-0.506085</td>\n",
              "      <td>-0.221560</td>\n",
              "      <td>-0.190885</td>\n",
              "      <td>0.008572</td>\n",
              "      <td>-0.261419</td>\n",
              "      <td>0.033205</td>\n",
              "      <td>-0.638289</td>\n",
              "    </tr>\n",
              "    <tr>\n",
              "      <th>7</th>\n",
              "      <td>0000099d6bd597052cdcda90ffabf56573fe9d7c79be5f...</td>\n",
              "      <td>2017-10-08</td>\n",
              "      <td>0.0</td>\n",
              "      <td>0.905170</td>\n",
              "      <td>-0.720954</td>\n",
              "      <td>-0.468895</td>\n",
              "      <td>1.017525</td>\n",
              "      <td>-1.711672</td>\n",
              "      <td>-0.941778</td>\n",
              "      <td>0.726907</td>\n",
              "      <td>...</td>\n",
              "      <td>-1.110223e-16</td>\n",
              "      <td>8.673617e-18</td>\n",
              "      <td>-4.547474e-13</td>\n",
              "      <td>-0.464004</td>\n",
              "      <td>1.196760</td>\n",
              "      <td>-0.340435</td>\n",
              "      <td>0.008572</td>\n",
              "      <td>-0.486507</td>\n",
              "      <td>0.230471</td>\n",
              "      <td>-0.101710</td>\n",
              "    </tr>\n",
              "    <tr>\n",
              "      <th>8</th>\n",
              "      <td>0000099d6bd597052cdcda90ffabf56573fe9d7c79be5f...</td>\n",
              "      <td>2017-11-20</td>\n",
              "      <td>0.0</td>\n",
              "      <td>1.209616</td>\n",
              "      <td>-0.555256</td>\n",
              "      <td>-0.419792</td>\n",
              "      <td>1.043782</td>\n",
              "      <td>-1.082661</td>\n",
              "      <td>-1.020662</td>\n",
              "      <td>-0.702712</td>\n",
              "      <td>...</td>\n",
              "      <td>-1.110223e-16</td>\n",
              "      <td>8.673617e-18</td>\n",
              "      <td>-4.547474e-13</td>\n",
              "      <td>-0.188527</td>\n",
              "      <td>-0.357733</td>\n",
              "      <td>-0.246248</td>\n",
              "      <td>0.008572</td>\n",
              "      <td>-0.225266</td>\n",
              "      <td>-0.328618</td>\n",
              "      <td>-0.780923</td>\n",
              "    </tr>\n",
              "    <tr>\n",
              "      <th>9</th>\n",
              "      <td>0000099d6bd597052cdcda90ffabf56573fe9d7c79be5f...</td>\n",
              "      <td>2017-12-04</td>\n",
              "      <td>0.0</td>\n",
              "      <td>0.546506</td>\n",
              "      <td>-0.770175</td>\n",
              "      <td>-0.719339</td>\n",
              "      <td>1.070227</td>\n",
              "      <td>-1.089397</td>\n",
              "      <td>-1.055643</td>\n",
              "      <td>-0.206806</td>\n",
              "      <td>...</td>\n",
              "      <td>-1.110223e-16</td>\n",
              "      <td>8.673617e-18</td>\n",
              "      <td>-4.547474e-13</td>\n",
              "      <td>-0.416634</td>\n",
              "      <td>1.595867</td>\n",
              "      <td>-0.272559</td>\n",
              "      <td>0.008572</td>\n",
              "      <td>-0.223609</td>\n",
              "      <td>-0.284267</td>\n",
              "      <td>0.053637</td>\n",
              "    </tr>\n",
              "  </tbody>\n",
              "</table>\n",
              "<p>5 rows × 191 columns</p>\n",
              "</div>"
            ]
          },
          "metadata": {},
          "execution_count": 34
        }
      ]
    },
    {
      "cell_type": "code",
      "source": [
        "train.to_pickle(DATA_PATH + 'train_skewness_reduced.pkl')"
      ],
      "metadata": {
        "id": "zvuLIBdsG0Df"
      },
      "execution_count": null,
      "outputs": []
    },
    {
      "cell_type": "markdown",
      "source": [
        "### Normalization"
      ],
      "metadata": {
        "id": "hrMR-rQAcgFp"
      }
    },
    {
      "cell_type": "code",
      "source": [
        "# scaler = StandardScaler().set_output(transform='pandas')\n",
        "# train = scaler.fit_transform(train)"
      ],
      "metadata": {
        "id": "oqVSkUjsi2t1"
      },
      "execution_count": null,
      "outputs": []
    },
    {
      "cell_type": "markdown",
      "source": [
        "## Save processed data"
      ],
      "metadata": {
        "id": "5TNL43KodsFf"
      }
    },
    {
      "cell_type": "code",
      "source": [
        "train.to_pickle(DATA_PATH + 'train.pkl')"
      ],
      "metadata": {
        "id": "GO0hS1h8cSer"
      },
      "execution_count": null,
      "outputs": []
    },
    {
      "cell_type": "code",
      "source": [],
      "metadata": {
        "id": "jKlPMEBD6lMh"
      },
      "execution_count": null,
      "outputs": []
    }
  ]
}